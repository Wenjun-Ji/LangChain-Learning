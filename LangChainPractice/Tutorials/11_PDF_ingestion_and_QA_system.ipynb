{
 "cells": [
  {
   "cell_type": "markdown",
   "metadata": {},
   "source": [
    "# 构建一个 PDF 解析和问答系统\n",
    "\n",
    "PDF 文件通常包含其他来源无法获得的重要非结构化数据。它们可能相当长，而且不像纯文本文件那样，通常无法直接输入到语言模型的提示中。\n",
    "\n",
    "在本教程中，你将创建一个可以回答关于 PDF 文件问题的系统。更具体地说，你将使用文档加载器将文本加载到一种语言模型可用的格式，然后构建一个检索增强生成（RAG）管道来回答问题，包括引用来源材料。\n",
    "\n",
    "本教程将略过一些在我们的 RAG 教程中更详细介绍的概念，因此如果你还没有阅读过那些内容，建议你先了解一下。\n",
    "\n",
    "让我们开始吧！"
   ]
  },
  {
   "cell_type": "markdown",
   "metadata": {},
   "source": [
    "### 加载文档\n",
    "\n",
    "首先，你需要选择一个要加载的 PDF。我们将使用 Nike 的年度公开 SEC 报告中的一份文件。它超过 100 页长，包含一些与较长解释性文本混合的重要数据。不过，你也可以选择你自己的 PDF。\n",
    "\n",
    "一旦你选择了 PDF，下一步是将其加载到一种 LLM 更容易处理的格式中，因为 LLM 通常需要文本输入。LangChain 有几个内置的文档加载器供你实验。下面，我们将使用一个由 pypdf 包支持的从文件路径读取的加载器："
   ]
  },
  {
   "cell_type": "code",
   "execution_count": 4,
   "metadata": {},
   "outputs": [],
   "source": [
    "from langchain.document_loaders import PyPDFLoader\n",
    "\n",
    "# Load the PDF document\n",
    "loader = PyPDFLoader(\"../example_data/nke-10k-2023.pdf\")\n",
    "docs = loader.load()\n"
   ]
  },
  {
   "cell_type": "code",
   "execution_count": 5,
   "metadata": {},
   "outputs": [
    {
     "name": "stdout",
     "output_type": "stream",
     "text": [
      "106\n"
     ]
    }
   ],
   "source": [
    "print(len(docs))"
   ]
  },
  {
   "cell_type": "code",
   "execution_count": 13,
   "metadata": {},
   "outputs": [
    {
     "name": "stdout",
     "output_type": "stream",
     "text": [
      "FORM 10-K FORM 10-K\n",
      "{'source': '../example_data/nke-10k-2023.pdf', 'page': 0}\n"
     ]
    }
   ],
   "source": [
    "print(docs[0].page_content[0:100])\n",
    "print(docs[0].metadata)"
   ]
  },
  {
   "cell_type": "markdown",
   "metadata": {},
   "source": [
    "那么刚刚发生了什么？\n",
    "\n",
    "- 加载程序将指定路径处的 PDF 读取到内存中。\n",
    "- 然后，它使用包提取文本数据。pypdf\n",
    "- 最后，它为 PDF 的每一页创建一个 LangChain 文档，其中包含页面内容和一些关于文本来自文档中位置的元数据。\n",
    "\n",
    "LangChain为其他数据源提供了许多其他文档加载器，或者您可以创建自定义文档加载器。"
   ]
  },
  {
   "cell_type": "code",
   "execution_count": 18,
   "metadata": {},
   "outputs": [],
   "source": [
    "import os\n",
    "from langchain_openai import ChatOpenAI\n",
    "API_SECRET_KEY = \"\"\n",
    "BASE_URL = \"\"  # 代理 base-url 记得加上 /v1\n",
    "\n",
    "os.environ[\"OPENAI_API_KEY\"] = API_SECRET_KEY\n",
    "os.environ[\"OPENAI_API_BASE\"] = BASE_URL\n",
    "llm = ChatOpenAI(temperature=0)\n",
    "\n",
    "from langchain_cohere import CohereEmbeddings\n",
    "embeddings_model = CohereEmbeddings(cohere_api_key=\"YL7DZ8X1MkaB5uJbKsBNSBmVFxAERjGhOs2EA0oh\",model='embed-english-v3.0')"
   ]
  },
  {
   "cell_type": "code",
   "execution_count": 19,
   "metadata": {},
   "outputs": [],
   "source": [
    "from langchain_chroma import Chroma\n",
    "from langchain_text_splitters import RecursiveCharacterTextSplitter\n",
    "\n",
    "text_splitter = RecursiveCharacterTextSplitter(chunk_size=1000, chunk_overlap=200)\n",
    "splits = text_splitter.split_documents(docs)\n",
    "vectorstore = Chroma.from_documents(documents=splits, embedding=embeddings_model)\n",
    "\n",
    "retriever = vectorstore.as_retriever()"
   ]
  },
  {
   "cell_type": "markdown",
   "metadata": {},
   "source": [
    "最后，您将使用一些内置帮助程序来构建最终的：rag_chain"
   ]
  },
  {
   "cell_type": "code",
   "execution_count": 20,
   "metadata": {},
   "outputs": [
    {
     "data": {
      "text/plain": [
       "{'input': \"What was Nike's revenue in 2023?\",\n",
       " 'context': [Document(metadata={'page': 36, 'source': '../example_data/nke-10k-2023.pdf'}, page_content='FISCAL 2023 NIKE BRAND REVENUE HIGHLIGHTS\\nThe following tables present NIKE Brand revenues disaggregated by reportable operating segment, distribution channel and \\nmajor product line:\\nFISCAL 2023 COMPARED TO FISCAL 2022\\n•NIKE, Inc. Revenues were $51.2 billion in fiscal 2023, which increased 10% and 16% compared to fiscal 2022 on a reported \\nand currency-neutral basis, respectively. The increase was due to higher revenues in North America, Europe, Middle East & \\nAfrica (\"EMEA\"), APLA and Greater China, which contributed approximately 7, 6, 2 and 1 percentage points to NIKE, Inc. \\nRevenues, respectively. \\n•NIKE Brand revenues, which represented over 90% of NIKE, Inc. Revenues,  increased  10% and 16% on a reported and \\ncurrency-neutral basis, respectively. This increase was primarily due to higher revenues in Men\\'s, the Jordan Brand, \\nWomen\\'s and Kids\\' which grew 17%, 35%,11% and 10%, respectively, on a wholesale equivalent basis.'),\n",
       "  Document(metadata={'page': 36, 'source': '../example_data/nke-10k-2023.pdf'}, page_content='apparel revenue growth. Higher ASP was primarily due to higher full-price ASP and growth in the size of our NIKE \\nDirect business, partially offset by lower NIKE Direct ASP, reflecting higher promotional activity.\\n•NIKE Direct revenues increased 14% from $18.7 billion in fiscal 2022 to $21.3 billion in fiscal 2023. On a currency-neutral \\nbasis, NIKE Direct revenues increased 20% primarily driven by NIKE Brand Digital sales growth of 24%, comparable store \\nsales growth of 14% and the addition of new stores. For further information regarding comparable store sales, including the \\ndefinition, see \"Comparable Store Sales\". NIKE Brand Digital sales were $12.6 billion for fiscal 2023 compared to \\n$10.7 billion for fiscal 2022.\\n2023 FORM 10-K   33    28%\\nEMEA13%\\nAPLA44%\\nNorth\\nAmerica\\n15%\\nGreater\\nChina56%\\nWholesale\\n44%\\nNIKE\\nDirect28%\\nApparel4%\\nEquipment68%\\nFootwear'),\n",
       "  Document(metadata={'page': 31, 'source': '../example_data/nke-10k-2023.pdf'}, page_content='to-end technology foundation, which we believe will further accelerate our digital transformation. W e believe this unified approach \\nwill accelerate growth and unlock more efficiency for our business, while driving speed and responsiveness as we serve \\nconsumers globally.\\nFINANCIAL HIGHLIGHTS \\n•In fiscal 2023, NIKE, Inc. achieved record Revenues of $51.2 billion, which increased 10% and 16% on a reported and \\ncurrency-neutral basis, respectively \\n•NIKE Direct revenues grew 14% from $18.7 billion in fiscal 2022 to $21.3 billion in fiscal 2023, and represented \\napproximately 44% of total NIKE Brand revenues for fiscal 2023\\n•Gross margin for the fiscal year decreased 250 basis points to 43.5% primarily driven by higher product costs, higher \\nmarkdowns and unfavorable changes in foreign currency exchange rates, partially of fset by strategic pricing actions\\n•Inventories as of May 31, 2023 were $8.5 billion, flat compared to the prior year, driven by the actions we took throughout'),\n",
       "  Document(metadata={'page': 32, 'source': '../example_data/nke-10k-2023.pdf'}, page_content='(Dollars in millions) 2023 2022\\nNet income $ 5,070 $ 6,046 \\nAdd: Interest expense (income), net  (6)  205 \\nAdd: Income tax expense  1,131  605 \\nEarnings before interest and taxes $ 6,195 $ 6,856 \\nEBIT Margin : Calculated as total NIKE, Inc. EBIT divided by total NIKE, Inc. Revenues. Our EBIT Margin calculation for fiscal \\n2023 and fiscal 2022 is as follows:\\nYEAR ENDED MAY 31,\\n(Dollars in millions) 2023 2022\\nNumerator\\nEarnings before interest and taxes $ 6,195 $ 6,856 \\nDenominator\\nTotal NIKE, Inc. Revenues $ 51,217 $ 46,710 \\nEBIT Margin  12.1 %  14.7 %\\n2023 FORM 10-K   29')],\n",
       " 'answer': 'NIKE, Inc. achieved record revenues of $51.2 billion in fiscal 2023, which increased 10% and 16% on a reported and currency-neutral basis, respectively.'}"
      ]
     },
     "execution_count": 20,
     "metadata": {},
     "output_type": "execute_result"
    }
   ],
   "source": [
    "from langchain.chains import create_retrieval_chain\n",
    "from langchain.chains.combine_documents import create_stuff_documents_chain\n",
    "from langchain_core.prompts import ChatPromptTemplate\n",
    "\n",
    "system_prompt = (\n",
    "    \"You are an assistant for question-answering tasks. \"\n",
    "    \"Use the following pieces of retrieved context to answer \"\n",
    "    \"the question. If you don't know the answer, say that you \"\n",
    "    \"don't know. Use three sentences maximum and keep the \"\n",
    "    \"answer concise.\"\n",
    "    \"\\n\\n\"\n",
    "    \"{context}\"\n",
    ")\n",
    "\n",
    "prompt = ChatPromptTemplate.from_messages(\n",
    "    [\n",
    "        (\"system\", system_prompt),\n",
    "        (\"human\", \"{input}\"),\n",
    "    ]\n",
    ")\n",
    "\n",
    "question_answer_chain = create_stuff_documents_chain(llm, prompt)\n",
    "rag_chain = create_retrieval_chain(retriever, question_answer_chain)\n",
    "\n",
    "results = rag_chain.invoke({\"input\": \"What was Nike's revenue in 2023?\"})\n",
    "\n",
    "results"
   ]
  },
  {
   "cell_type": "markdown",
   "metadata": {},
   "source": [
    "你可以看到，你在结果字典的键中得到了一个最终答案，以及用于生成答案的LLM。`answer` `context`\n",
    "\n",
    "检查“进一步”下的值，您可以看到它们是每个文档都包含引入的页面内容块。有用的是，这些文档还保留了您首次加载它们时的原始元数据：`context`"
   ]
  },
  {
   "cell_type": "code",
   "execution_count": 21,
   "metadata": {},
   "outputs": [
    {
     "name": "stdout",
     "output_type": "stream",
     "text": [
      "FISCAL 2023 NIKE BRAND REVENUE HIGHLIGHTS\n",
      "The following tables present NIKE Brand revenues disaggregated by reportable operating segment, distribution channel and \n",
      "major product line:\n",
      "FISCAL 2023 COMPARED TO FISCAL 2022\n",
      "•NIKE, Inc. Revenues were $51.2 billion in fiscal 2023, which increased 10% and 16% compared to fiscal 2022 on a reported \n",
      "and currency-neutral basis, respectively. The increase was due to higher revenues in North America, Europe, Middle East & \n",
      "Africa (\"EMEA\"), APLA and Greater China, which contributed approximately 7, 6, 2 and 1 percentage points to NIKE, Inc. \n",
      "Revenues, respectively. \n",
      "•NIKE Brand revenues, which represented over 90% of NIKE, Inc. Revenues,  increased  10% and 16% on a reported and \n",
      "currency-neutral basis, respectively. This increase was primarily due to higher revenues in Men's, the Jordan Brand, \n",
      "Women's and Kids' which grew 17%, 35%,11% and 10%, respectively, on a wholesale equivalent basis.\n"
     ]
    }
   ],
   "source": [
    "print(results[\"context\"][0].page_content)"
   ]
  },
  {
   "cell_type": "code",
   "execution_count": 22,
   "metadata": {},
   "outputs": [
    {
     "name": "stdout",
     "output_type": "stream",
     "text": [
      "{'page': 36, 'source': '../example_data/nke-10k-2023.pdf'}\n"
     ]
    }
   ],
   "source": [
    "print(results[\"context\"][0].metadata)"
   ]
  },
  {
   "cell_type": "markdown",
   "metadata": {},
   "source": [
    "这个特定的块来自原始 PDF 的第 36 页。您可以使用此数据来显示答案来自 PDF 中的哪个页面，从而允许用户快速验证答案是否基于源材料。"
   ]
  }
 ],
 "metadata": {
  "kernelspec": {
   "display_name": "langchain-env",
   "language": "python",
   "name": "python3"
  },
  "language_info": {
   "codemirror_mode": {
    "name": "ipython",
    "version": 3
   },
   "file_extension": ".py",
   "mimetype": "text/x-python",
   "name": "python",
   "nbconvert_exporter": "python",
   "pygments_lexer": "ipython3",
   "version": "3.9.19"
  }
 },
 "nbformat": 4,
 "nbformat_minor": 2
}
